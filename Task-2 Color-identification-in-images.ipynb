{
 "cells": [
  {
   "cell_type": "markdown",
   "id": "9750b229",
   "metadata": {},
   "source": [
    "# #GRIPMAY23\n",
    "\n",
    "# NAME: PRINCE KUMAR\n",
    "\n",
    "# DOMAIN: COMPUTER VISION AND IOT\n",
    "\n",
    "# TASK-2 COLOR IDENTIFICATION IN IMAGES"
   ]
  },
  {
   "cell_type": "markdown",
   "id": "81bc10ec",
   "metadata": {},
   "source": [
    "Importing libraries"
   ]
  },
  {
   "cell_type": "code",
   "execution_count": 1,
   "id": "b372387d",
   "metadata": {},
   "outputs": [],
   "source": [
    "import cv2\n",
    "import pandas as pd"
   ]
  },
  {
   "cell_type": "markdown",
   "id": "944e6a60",
   "metadata": {},
   "source": [
    "Saving image and csv file path into variables "
   ]
  },
  {
   "cell_type": "code",
   "execution_count": 2,
   "id": "a9c6fedc",
   "metadata": {},
   "outputs": [],
   "source": [
    "img_path = 'task2.jpg'\n",
    "csv_path = 'colors.csv'"
   ]
  },
  {
   "cell_type": "markdown",
   "id": "4b96c9d0",
   "metadata": {},
   "source": [
    "Reading csv files"
   ]
  },
  {
   "cell_type": "code",
   "execution_count": 3,
   "id": "980afc72",
   "metadata": {},
   "outputs": [],
   "source": [
    "index = ['color','color_name','hex','R','G','B']\n",
    "df = pd.read_csv(csv_path, names=index,header = None)"
   ]
  },
  {
   "cell_type": "markdown",
   "id": "d9f9e47f",
   "metadata": {},
   "source": [
    "Reading image"
   ]
  },
  {
   "cell_type": "code",
   "execution_count": 4,
   "id": "090a1d65",
   "metadata": {},
   "outputs": [],
   "source": [
    "#Reading the image\n",
    "\n",
    "img = cv2.imread(img_path)\n",
    "\n",
    "#Resizing the image to 800x600\n",
    "\n",
    "img = cv2.resize(img,(800,600))"
   ]
  },
  {
   "cell_type": "code",
   "execution_count": 5,
   "id": "ed93917f",
   "metadata": {},
   "outputs": [],
   "source": [
    "#Initializing the variables\n",
    "\n",
    "clicked = False\n",
    "r = g = b = xpos = ypos = 0"
   ]
  },
  {
   "cell_type": "code",
   "execution_count": 6,
   "id": "f0730858",
   "metadata": {},
   "outputs": [],
   "source": [
    "#Function to compare the RGB values on (x,y) coordinates of the image\n",
    "#Returning the color name\n",
    "\n",
    "def get_color_name(R,G,B):\n",
    "    minimum = 1000\n",
    "    for i in range(len(df)):\n",
    "        d = abs(R-int(df.loc[i,'R'])) + abs(G-int(df.loc[i,'G'])) + abs(B-int(df.loc[i,'B']))\n",
    "        if d <= minimum:\n",
    "            minimum = d\n",
    "            cname = df.loc[i,'color_name']\n",
    "    return cname"
   ]
  },
  {
   "cell_type": "code",
   "execution_count": 7,
   "id": "b9ad7f9c",
   "metadata": {},
   "outputs": [],
   "source": [
    "#Function to get the coordinates of the mouse pointer when double clicked on the image\n",
    "#Saving the RGB values on those coordinates into the variables\n",
    "\n",
    "def draw_function(event,x,y,flags,params):\n",
    "    if event == cv2.EVENT_LBUTTONDBLCLK:\n",
    "        global clicked,r,g,b,xpos,ypos\n",
    "        clicked = True\n",
    "        xpos = x\n",
    "        ypos = y\n",
    "        b,g,r = img[y,x]\n",
    "        b = int(b)\n",
    "        g = int(g)\n",
    "        r = int(r)"
   ]
  },
  {
   "cell_type": "code",
   "execution_count": 8,
   "id": "1c314234",
   "metadata": {},
   "outputs": [
    {
     "ename": "KeyboardInterrupt",
     "evalue": "",
     "output_type": "error",
     "traceback": [
      "\u001b[1;31m---------------------------------------------------------------------------\u001b[0m",
      "\u001b[1;31mKeyboardInterrupt\u001b[0m                         Traceback (most recent call last)",
      "Input \u001b[1;32mIn [8]\u001b[0m, in \u001b[0;36m<cell line: 10>\u001b[1;34m()\u001b[0m\n\u001b[0;32m     22\u001b[0m         \u001b[38;5;28;01mif\u001b[39;00m r\u001b[38;5;241m+\u001b[39mg\u001b[38;5;241m+\u001b[39mb \u001b[38;5;241m>\u001b[39m\u001b[38;5;241m=\u001b[39m \u001b[38;5;241m600\u001b[39m: \u001b[38;5;66;03m#If the colors are dim\u001b[39;00m\n\u001b[0;32m     23\u001b[0m             cv2\u001b[38;5;241m.\u001b[39mputText(img,text,(\u001b[38;5;241m50\u001b[39m,\u001b[38;5;241m50\u001b[39m),\u001b[38;5;241m2\u001b[39m,\u001b[38;5;241m0.8\u001b[39m,(\u001b[38;5;241m0\u001b[39m,\u001b[38;5;241m0\u001b[39m,\u001b[38;5;241m0\u001b[39m),\u001b[38;5;241m2\u001b[39m,cv2\u001b[38;5;241m.\u001b[39mLINE_AA) \u001b[38;5;66;03m#We want our text to be black\u001b[39;00m\n\u001b[1;32m---> 25\u001b[0m     \u001b[38;5;28;01mif\u001b[39;00m \u001b[43mcv2\u001b[49m\u001b[38;5;241;43m.\u001b[39;49m\u001b[43mwaitKey\u001b[49m\u001b[43m(\u001b[49m\u001b[38;5;241;43m20\u001b[39;49m\u001b[43m)\u001b[49m \u001b[38;5;241m&\u001b[39m \u001b[38;5;241m0xFF\u001b[39m \u001b[38;5;241m==\u001b[39m \u001b[38;5;241m27\u001b[39m:\n\u001b[0;32m     26\u001b[0m         \u001b[38;5;28;01mbreak\u001b[39;00m\n\u001b[0;32m     27\u001b[0m cv2\u001b[38;5;241m.\u001b[39mwaitKey(\u001b[38;5;241m0\u001b[39m)\n",
      "\u001b[1;31mKeyboardInterrupt\u001b[0m: "
     ]
    }
   ],
   "source": [
    "#Creating the window for image\n",
    "\n",
    "cv2.namedWindow('image')\n",
    "\n",
    "#Binding the draw_function to the mouse pointer\n",
    "\n",
    "cv2.setMouseCallback('image', draw_function)\n",
    "\n",
    "while True:\n",
    "    cv2.imshow('image',img)\n",
    "    if clicked:\n",
    "        #Making a colored strip to show our text on\n",
    "        cv2.rectangle(img, (20,20), (600,60),(b,g,r), -1)\n",
    "\n",
    "        #Getting the color name and storing in text variable\n",
    "        text = get_color_name(r,g,b) + 'R='+ str(r) + 'G=' + str(g) + 'B=' + str(b)\n",
    "\n",
    "        #Putting the text onto the strip that we created above\n",
    "        cv2.putText(img,text,(50,50),2,0.8,(255,255,255),2,cv2.LINE_AA)\n",
    "\n",
    "\n",
    "        if r+g+b >= 600: #If the colors are dim\n",
    "            cv2.putText(img,text,(50,50),2,0.8,(0,0,0),2,cv2.LINE_AA) #We want our text to be black\n",
    "\n",
    "    if cv2.waitKey(20) & 0xFF == 27:\n",
    "        break\n",
    "cv2.waitKey(0)\n",
    "cv2.destroyAllWindows()\n"
   ]
  },
  {
   "cell_type": "code",
   "execution_count": null,
   "id": "e501a9e3",
   "metadata": {},
   "outputs": [],
   "source": []
  },
  {
   "cell_type": "code",
   "execution_count": null,
   "id": "db6e0f0d",
   "metadata": {},
   "outputs": [],
   "source": []
  }
 ],
 "metadata": {
  "kernelspec": {
   "display_name": "Python 3 (ipykernel)",
   "language": "python",
   "name": "python3"
  },
  "language_info": {
   "codemirror_mode": {
    "name": "ipython",
    "version": 3
   },
   "file_extension": ".py",
   "mimetype": "text/x-python",
   "name": "python",
   "nbconvert_exporter": "python",
   "pygments_lexer": "ipython3",
   "version": "3.9.12"
  }
 },
 "nbformat": 4,
 "nbformat_minor": 5
}
